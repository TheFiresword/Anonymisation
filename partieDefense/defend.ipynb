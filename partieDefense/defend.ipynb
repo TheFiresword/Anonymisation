{
 "cells": [
  {
   "cell_type": "code",
   "execution_count": 1,
   "metadata": {},
   "outputs": [],
   "source": [
    "import pandas as pd\n",
    "from graphique import *\n",
    "import numpy as np\n",
    "import datetime\n",
    "from morse3 import Morse as m\n",
    "import string, random\n",
    "import json\n",
    "from collections import defaultdict\n",
    "import csv\n",
    "from shapely.geometry import Point, Polygon"
   ]
  },
  {
   "cell_type": "code",
   "execution_count": 2,
   "metadata": {},
   "outputs": [
    {
     "name": "stdout",
     "output_type": "stream",
     "text": [
      "   id                 date      long        lat\n",
      "0   1  2015-03-04 00:35:16  4.870147  45.772140\n",
      "1   1  2015-03-04 00:35:48  4.870218  45.772095\n",
      "(34551849, 10)\n",
      "   id                 date  long    lat  isPoi  isTransitCity  night   work  \\\n",
      "0   1  2015-03-04 00:35:16  4.87  45.77  False          False  False  False   \n",
      "1   1  2015-03-04 00:35:48  4.87  45.77  False          False  False  False   \n",
      "2   1  2015-03-04 00:35:49  4.87  45.77  False          False  False  False   \n",
      "3   1  2015-03-04 00:35:50  4.87  45.77  False          False  False  False   \n",
      "4   1  2015-03-04 00:35:52  4.87  45.77  False          False  False  False   \n",
      "\n",
      "   weekend  semaine  \n",
      "0    False       10  \n",
      "1    False       10  \n",
      "2    False       10  \n",
      "3    False       10  \n",
      "4    False       10  \n"
     ]
    }
   ],
   "source": [
    "truth_file_url = \"https://drive.usercontent.google.com/download?id=1KE4dJ_ArA7jhIUYmzITIYO7Yh60rQ0-K&export=download&authuser=2&confirm=t&uuid=5b074238-7709-408b-ac93-86cf839cdb07&at=APZUnTXJHY4NiV5TeGbmEtE-F6Ip:1699105244012\"\n",
    "\n",
    "# Charger le fichier de vérité dans un dataframe sans le télécharger\n",
    "df = pd.read_csv(\"../truth_ground.csv\", delimiter= '\\t', header=None)    \n",
    "df.columns = [\"id\",\"date\", \"long\", \"lat\"]\n",
    "print(df.head(2))\n",
    "# Ajout de colonnes pour aider au traitement\n",
    "df['isPoi'] = [False]*df.shape[0]\n",
    "df['isTransitCity'] = [False]*df.shape[0]\n",
    "df['night'] = [False]*df.shape[0]\n",
    "df['work'] = [False]*df.shape[0]\n",
    "df['weekend'] = [False]*df.shape[0]\n",
    "df['semaine'] = pd.to_datetime(df['date'], format=\"%Y-%m-%d %H:%M:%S\").dt.isocalendar().week\n",
    "\n",
    "columns_types = {'id' : np.int16, 'date': str, 'long': np.float32, 'lat': np.float32, \n",
    "                 'isPoi' : bool, 'night': bool, 'work': bool, 'weekend': bool, 'semaine': np.int16}\n",
    "df = df.astype(columns_types)\n",
    "\n",
    "# Bucketisation en tuiles représentant des quartiers (arrondi 0.01)\n",
    "df['long'] = df['long'].apply(lambda x : round(x, 2))\n",
    "df['lat'] = df['lat'].apply(lambda x : round(x, 2))\n",
    "print(df.shape)\n",
    "print(df.head(5))\n"
   ]
  },
  {
   "cell_type": "code",
   "execution_count": 3,
   "metadata": {},
   "outputs": [],
   "source": [
    "#ids_to_treat = range(1, 113)\n",
    "#df_to_treat = df[(df['id'].isin(ids_to_treat))]\n",
    "df_to_treat = df"
   ]
  },
  {
   "cell_type": "code",
   "execution_count": 4,
   "metadata": {},
   "outputs": [
    {
     "data": {
      "text/plain": [
       "id                                 7\n",
       "date             2015-04-01 04:48:55\n",
       "long                            4.93\n",
       "lat                            45.78\n",
       "isPoi                          False\n",
       "isTransitCity                  False\n",
       "night                          False\n",
       "work                           False\n",
       "weekend                        False\n",
       "semaine                           14\n",
       "Name: 4570486, dtype: object"
      ]
     },
     "execution_count": 4,
     "metadata": {},
     "output_type": "execute_result"
    }
   ],
   "source": [
    "df_to_treat.loc[4570486]"
   ]
  },
  {
   "cell_type": "code",
   "execution_count": 5,
   "metadata": {},
   "outputs": [],
   "source": [
    "# Découper en tuiles plus petites que les tuiles finales pour pouvoir supprimer des lignes de POI plus tard\n",
    "# Déterminer les poi pour les garder intègres au maximum\n",
    "# Décaler les heures de 6h tout en gardant la même durée totale passée dans ces poi -- Distribution normale...\n",
    "from collections import defaultdict\n",
    "import csv\n",
    "\n",
    "WORK_START = datetime.time(9, 0)\n",
    "WORK_END = datetime.time(16, 0)\n",
    "WEEKEND_START = datetime.time(10, 0)\n",
    "WEEKEND_END = datetime.time(18, 0)\n",
    "NIGHT_START = datetime.time(22, 0)\n",
    "NIGHT_END = datetime.time(6, 0)\n",
    "\n",
    "def computePOIs(df_: pd.DataFrame, file_name):\n",
    "    def timedelta_def(): return datetime.timedelta()\n",
    "    def defaultdicttimedalta(): return defaultdict(timedelta_def)\n",
    "    def defaultdictseption(): return defaultdict(defaultdicttimedalta)\n",
    "    def returnnone(): return None\n",
    "    maxdict = lambda dict: max(dict, key=lambda key: dict[key])\n",
    "    def diff_time(key, time1, last_date_tab):\n",
    "        if last_date_tab[key] is None:\n",
    "            last_date_tab[key] = time1\n",
    "            return datetime.timedelta()\n",
    "        else:\n",
    "            difference = time1 - last_date_tab[key]\n",
    "            last_date_tab[key] = time1\n",
    "            return difference\n",
    "    def getMaxElement(theDict):\n",
    "        result = defaultdict(timedelta_def)\n",
    "        for _ in range(3):\n",
    "            if len(theDict)==0:\n",
    "                break\n",
    "            key = maxdict(theDict)\n",
    "            result[key] = theDict[key]\n",
    "            del theDict[key]\n",
    "        return result\n",
    "    def track_deplacements(row, deplacements_par_horaire, last_date_original_tab):\n",
    "        key = row[0]\n",
    "        gps = (row[2], row[3])\n",
    "        date_time = datetime.datetime.fromisoformat(row[1][:19])\n",
    "\n",
    "        if date_time.weekday() < 5:\n",
    "            if NIGHT_START < date_time.time() or date_time.time() < NIGHT_END:\n",
    "                deplacements_par_horaire[key]['night'][gps] += diff_time(key, date_time, last_date_original_tab)\n",
    "            elif WORK_START < date_time.time() < WORK_END:\n",
    "                deplacements_par_horaire[key]['work'][gps] += diff_time(key, date_time, last_date_original_tab)\n",
    "        else:\n",
    "            if WEEKEND_START < date_time.time() < WEEKEND_END:\n",
    "                deplacements_par_horaire[key]['weekend'][gps] += diff_time(key, date_time, last_date_original_tab) \n",
    "    \n",
    "    #--------------------------------------------------------#\n",
    "    # Détermination de l'horaire de chaque entrée du df\n",
    "    #--------------------------------------------------------#\n",
    "    tmp = pd.to_datetime(df_['date'])\n",
    "    conditions = [\n",
    "        (tmp.dt.weekday < 5) & ((tmp.dt.time > NIGHT_START) | (tmp.dt.time < NIGHT_END)),\n",
    "        (tmp.dt.weekday < 5) & ((WORK_START < tmp.dt.time) & (tmp.dt.time< WORK_END)),\n",
    "        (tmp.dt.weekday >= 5) & ((WEEKEND_START < tmp.dt.time) & (tmp.dt.time< WEEKEND_END))\n",
    "    ]\n",
    "    horaires = ['night', 'work', 'weekend']\n",
    "    for condition, horaire in zip(conditions, horaires):\n",
    "        df_.loc[condition, horaire] = True\n",
    "    \n",
    "    #--------------------------------------------------------#\n",
    "    # Calcul des durées passées dans à position gps pour chaque id\n",
    "    #--------------------------------------------------------#\n",
    "    deplacements_par_horaire = defaultdict(defaultdictseption)\n",
    "    last_date_original_tab = defaultdict(returnnone)\n",
    "    \n",
    "    fd_original = open(file_name, newline='')\n",
    "    original_reader = csv.reader(fd_original, delimiter=\"\\t\")\n",
    "    \n",
    "    for row in original_reader:\n",
    "        track_deplacements(row, deplacements_par_horaire, last_date_original_tab)\n",
    "    \n",
    "    #--------------------------------------------------------#\n",
    "    # Calcul des positions POI de niveau 1\n",
    "    #--------------------------------------------------------#\n",
    "    final_tab = defaultdict(defaultdictseption)\n",
    "    for id in deplacements_par_horaire:\n",
    "        for type in deplacements_par_horaire[id]:\n",
    "            final_tab[id][type] = getMaxElement(deplacements_par_horaire[id][type])\n",
    "\n",
    "    poi = []\n",
    "    for id in final_tab:\n",
    "        vartmp = {'id': id, 'night': None, 'work': None, 'weekend': None, 'duree_night': None, 'duree_work': None, 'duree_weekend': None}\n",
    "        for champ in final_tab[id]:\n",
    "            vartmp[champ] = max(final_tab[id][champ], key=lambda x: final_tab[id][champ][x])\n",
    "            delta_duree = final_tab[id][champ][vartmp[champ]]\n",
    "            vartmp['duree_'+str(champ)] =  (delta_duree.days * 24 * 3600) + delta_duree.seconds\n",
    "            isPoiCondition = (df_[champ]) & \\\n",
    "                (df_['id']==np.int16(id)) & \\\n",
    "                (df_['long']==float(vartmp[champ][0])) & \\\n",
    "                (df_['lat']==float(vartmp[champ][1]))\n",
    "                \n",
    "            df_.loc[isPoiCondition, 'isPoi'] = True  \n",
    "        poi.append(vartmp)\n",
    "    return poi"
   ]
  },
  {
   "cell_type": "code",
   "execution_count": 7,
   "metadata": {},
   "outputs": [
    {
     "name": "stdout",
     "output_type": "stream",
     "text": [
      "[{'id': '1', 'night': ('4.86997166666667', '45.7702066666667'), 'work': ('1.486815', '43.572505'), 'weekend': ('4.87544833333333', '45.786505'), 'duree_night': 112332, 'duree_work': 186802, 'duree_weekend': 151256}, {'id': '2', 'night': ('4.87871833333333', '45.78388'), 'work': ('4.83265166666667', '45.7634633333333'), 'weekend': ('4.87998833333333', '45.782225'), 'duree_night': 134513, 'duree_work': 168742, 'duree_weekend': 127995}, {'id': '107', 'night': ('4.871635', '45.7850416666667'), 'work': ('4.879445', '45.7867733333333'), 'weekend': ('4.872685', '45.78467'), 'duree_night': 140161, 'duree_work': 116865, 'duree_weekend': 94924}, {'id': '98', 'night': ('4.871635', '45.7850416666667'), 'work': ('2.37536666666667', '48.843915'), 'weekend': ('4.85847', '45.760075'), 'duree_night': 133355, 'duree_work': 102744, 'duree_weekend': 133696}, {'id': '21', 'night': ('-0.563235', '44.8343133333333'), 'work': ('4.87940333333333', '45.7866383333333'), 'weekend': ('-0.570691666666667', '44.84977'), 'duree_night': 23762, 'duree_work': 116399, 'duree_weekend': 67712}, {'id': '5', 'night': ('4.86956333333333', '45.7704616666667'), 'work': ('4.8797', '45.7863216666667'), 'weekend': ('4.87988333333333', '45.7866916666667'), 'duree_night': 58550, 'duree_work': 91941, 'duree_weekend': 155199}, {'id': '9', 'night': ('4.84083666666667', '45.7708733333333'), 'work': ('4.84063666666667', '45.7706883333333'), 'weekend': ('4.84036666666667', '45.77013'), 'duree_night': 1577147, 'duree_work': 603806, 'duree_weekend': 413326}, {'id': '6', 'night': ('5.49551889', '45.35391458'), 'work': ('2.91913994', '48.95007605'), 'weekend': ('4.87963337', '45.78606939'), 'duree_night': 148291, 'duree_work': 140609, 'duree_weekend': 189597}, {'id': '7', 'night': ('4.92610666666667', '45.7799733333333'), 'work': ('4.925235', '45.780565'), 'weekend': ('4.92643833333333', '45.7802716666667'), 'duree_night': 923396, 'duree_work': 218199, 'duree_weekend': 141130}, {'id': '8', 'night': ('4.872505', '45.78206'), 'work': ('6.80434666666667', '43.4314116666667'), 'weekend': ('4.87411333333333', '45.7820783333333'), 'duree_night': 188854, 'duree_work': 182672, 'duree_weekend': 181757}, {'id': '11', 'night': ('-0.558875', '44.8291333333333'), 'work': ('-0.572968333333333', '44.8513616666667'), 'weekend': ('4.87270333333333', '45.783745'), 'duree_night': 26522, 'duree_work': 59695, 'duree_weekend': 102540}, {'id': '17', 'night': ('4.87461666666667', '45.772765'), 'work': ('5.06155', '45.0457583333333'), 'weekend': ('-0.57115', '44.849845'), 'duree_night': 223110, 'duree_work': 1722308, 'duree_weekend': 89881}, {'id': '15', 'night': ('-0.563333333333333', '44.8342716666667'), 'work': ('4.87958666666667', '45.784165'), 'weekend': ('5.89891666666667', '47.1968883333333'), 'duree_night': 146777, 'duree_work': 92418, 'duree_weekend': 224194}, {'id': '44', 'night': ('4.87592333333333', '45.7680766666667'), 'work': ('4.87593833333333', '45.7682533333333'), 'weekend': ('4.87466166666667', '45.7832666666667'), 'duree_night': 110599, 'duree_work': 1661859, 'duree_weekend': 162675}, {'id': '42', 'night': ('4.873815', '45.785155'), 'work': ('4.32695166666667', '46.0928633333333'), 'weekend': ('4.80527166666667', '45.770545'), 'duree_night': 128793, 'duree_work': 116537, 'duree_weekend': 85255}, {'id': '16', 'night': ('4.87268666666667', '45.7819483333333'), 'work': ('4.89397833333333', '45.7784333333333'), 'weekend': ('-0.571221666666667', '44.84991'), 'duree_night': 24981, 'duree_work': 366157, 'duree_weekend': 118744}, {'id': '23', 'night': ('4.862205', '45.7780883333333'), 'work': ('-0.57152', '44.8496716666667'), 'weekend': ('4.87970833333333', '45.7862816666667'), 'duree_night': 112970, 'duree_work': 114929, 'duree_weekend': 137398}, {'id': '32', 'night': ('4.863415', '45.5282683333333'), 'work': ('5.556595', '45.0704833333333'), 'weekend': ('4.863375', '45.5283033333333'), 'duree_night': 1095086, 'duree_work': 460132, 'duree_weekend': 167210}, {'id': '24', 'night': ('4.87253666666667', '45.7821983333333'), 'work': ('4.879685', '45.7869016666667'), 'weekend': ('4.85529333333333', '45.7604683333333'), 'duree_night': 199245, 'duree_work': 320469, 'duree_weekend': 162502}, {'id': '37', 'night': ('4.870925', '45.7839033333333'), 'work': ('4.87137', '45.7837716666667'), 'weekend': None, 'duree_night': 254869, 'duree_work': 270531, 'duree_weekend': None}, {'id': '14', 'night': ('-0.572941666666667', '44.8410433333333'), 'work': ('4.87980166666667', '45.7864183333333'), 'weekend': ('4.87995333333333', '45.7860833333333'), 'duree_night': 35890, 'duree_work': 102219, 'duree_weekend': 237665}, {'id': '25', 'night': ('4.88167166666667', '45.78684'), 'work': ('4.880165', '45.7869233333333'), 'weekend': ('4.87908', '45.7864066666667'), 'duree_night': 39252, 'duree_work': 102046, 'duree_weekend': 66514}, {'id': '13', 'night': ('4.92667', '45.7798683333333'), 'work': ('4.92618166666667', '45.780075'), 'weekend': ('4.92600333333333', '45.7798616666667'), 'duree_night': 1154557, 'duree_work': 382131, 'duree_weekend': 178653}, {'id': '26', 'night': ('4.86735333333333', '45.7552616666667'), 'work': ('4.87995333333333', '45.786285'), 'weekend': ('4.86758', '45.755085'), 'duree_night': 1167887, 'duree_work': 1357592, 'duree_weekend': 96768}, {'id': '31', 'night': ('-1.12498', '45.511995'), 'work': ('4.87093666666667', '45.7576216666667'), 'weekend': ('-1.12482166666667', '45.5117916666667'), 'duree_night': 52809, 'duree_work': 100134, 'duree_weekend': 71873}, {'id': '28', 'night': ('4.65665166666667', '46.07638'), 'work': ('4.88018833333333', '45.783785'), 'weekend': ('4.65662', '46.0764333333333'), 'duree_night': 144765, 'duree_work': 105568, 'duree_weekend': 84651}, {'id': '89', 'night': ('4.87732333333333', '45.7804116666667'), 'work': ('4.87155166666667', '45.7817716666667'), 'weekend': ('4.87805333333333', '45.7810516666667'), 'duree_night': 194172, 'duree_work': 4315882, 'duree_weekend': 64919}, {'id': '29', 'night': ('4.91494833333333', '45.7818566666667'), 'work': ('4.91591166666667', '45.7820166666667'), 'weekend': ('4.91525833333333', '45.781705'), 'duree_night': 61625, 'duree_work': 278283, 'duree_weekend': 1662944}, {'id': '27', 'night': ('4.795205', '45.772735'), 'work': ('4.79542833333333', '45.772875'), 'weekend': ('4.79513666666667', '45.77282'), 'duree_night': 108420, 'duree_work': 357813, 'duree_weekend': 302771}, {'id': '30', 'night': ('4.08761666666667', '46.0188816666667'), 'work': ('4.86611', '45.7693116666667'), 'weekend': ('4.86610333333333', '45.7692516666667'), 'duree_night': 198559, 'duree_work': 431403, 'duree_weekend': 504181}, {'id': '34', 'night': ('4.83231666666667', '45.7538016666667'), 'work': ('4.87291833333333', '45.7820033333333'), 'weekend': ('4.83206666666667', '45.7538883333333'), 'duree_night': 42329, 'duree_work': 63926, 'duree_weekend': 69833}, {'id': '38', 'night': ('4.87570666666667', '45.7805766666667'), 'work': ('4.87535333333333', '45.7803316666667'), 'weekend': ('4.87567833333333', '45.780645'), 'duree_night': 28314, 'duree_work': 263852, 'duree_weekend': 57607}, {'id': '36', 'night': ('4.87221666666667', '45.78496'), 'work': ('2.32818', '48.8715'), 'weekend': ('2.170095', '48.87781'), 'duree_night': 1003875, 'duree_work': 2843475, 'duree_weekend': 57627}, {'id': '39', 'night': ('4.88033', '45.7844183333333'), 'work': ('4.8786', '45.7845366666667'), 'weekend': ('4.879225', '45.7846966666667'), 'duree_night': 2637579, 'duree_work': 282500, 'duree_weekend': 81901}, {'id': '35', 'night': ('4.87402333333333', '45.7788416666667'), 'work': ('4.875705', '45.7764116666667'), 'weekend': ('4.87783', '45.7769466666667'), 'duree_night': 134337, 'duree_work': 1633521, 'duree_weekend': 285369}, {'id': '54', 'night': ('4.87195833333333', '45.78401'), 'work': ('4.87385833333333', '45.7837033333333'), 'weekend': ('4.87292', '45.7847916666667'), 'duree_night': 851686, 'duree_work': 204330, 'duree_weekend': 36002}, {'id': '48', 'night': ('4.87960333333333', '45.7838616666667'), 'work': ('4.06242833333333', '46.0403833333333'), 'weekend': None, 'duree_night': 121036, 'duree_work': 274661, 'duree_weekend': None}, {'id': '41', 'night': ('2.2818', '48.90472'), 'work': ('4.880185', '45.7838466666667'), 'weekend': ('2.28149333333333', '48.9048733333333'), 'duree_night': 860509, 'duree_work': 213265, 'duree_weekend': 532856}, {'id': '55', 'night': ('4.89247', '45.7784216666667'), 'work': ('4.87353', '45.78212'), 'weekend': ('6.396245', '46.237435'), 'duree_night': 113123, 'duree_work': 140404, 'duree_weekend': 58923}, {'id': '49', 'night': ('4.87906666666667', '45.780485'), 'work': ('4.872665', '45.7822116666667'), 'weekend': ('4.87836166666667', '45.7801333333333'), 'duree_night': 187575, 'duree_work': 223593, 'duree_weekend': 292933}, {'id': '50', 'night': ('5.11261666666667', '43.9855216666667'), 'work': ('4.87212166666667', '45.7849566666667'), 'weekend': ('4.87188833333333', '45.78473'), 'duree_night': 81053, 'duree_work': 255710, 'duree_weekend': 127014}, {'id': '43', 'night': ('4.87528833333333', '45.7705'), 'work': ('4.87305', '45.7819116666667'), 'weekend': ('4.875315', '45.770275'), 'duree_night': 60743, 'duree_work': 3626898, 'duree_weekend': 170775}, {'id': '60', 'night': ('4.87260166666667', '45.782165'), 'work': ('4.872845', '45.7819733333333'), 'weekend': ('4.87129', '45.78402'), 'duree_night': 152928, 'duree_work': 3560613, 'duree_weekend': 36007}, {'id': '51', 'night': ('4.88443', '45.7700683333333'), 'work': ('4.89664', '45.75593'), 'weekend': ('4.86170666666667', '45.78577'), 'duree_night': 212619, 'duree_work': 188047, 'duree_weekend': 153691}, {'id': '52', 'night': ('4.8665', '45.76287'), 'work': ('4.87312', '45.7828416666667'), 'weekend': ('6.63703333333333', '44.8947066666667'), 'duree_night': 37818, 'duree_work': 757014, 'duree_weekend': 297070}, {'id': '62', 'night': ('5.27943166666667', '45.5854566666667'), 'work': ('-6.42651666666667', '53.2944416666667'), 'weekend': ('-6.272805', '53.349455'), 'duree_night': 1146412, 'duree_work': 173737, 'duree_weekend': 80484}, {'id': '59', 'night': ('4.86561333333333', '45.7555533333333'), 'work': ('4.87968833333333', '45.7863683333333'), 'weekend': ('1.55755833333333', '50.161405'), 'duree_night': 127838, 'duree_work': 99913, 'duree_weekend': 152993}, {'id': '63', 'night': ('4.83973333333333', '45.7815766666667'), 'work': ('4.83172333333333', '45.7731'), 'weekend': ('4.84026833333333', '45.78169'), 'duree_night': 194430, 'duree_work': 681874, 'duree_weekend': 164498}, {'id': '53', 'night': ('4.883245', '45.7766983333333'), 'work': ('4.873345', '45.7819866666667'), 'weekend': ('4.88489666666667', '45.7783483333333'), 'duree_night': 104127, 'duree_work': 380126, 'duree_weekend': 57923}, {'id': '65', 'night': ('4.89010333333333', '45.769455'), 'work': ('4.87254', '45.7825016666667'), 'weekend': ('4.88981166666667', '45.7694433333333'), 'duree_night': 49613, 'duree_work': 597544, 'duree_weekend': 42032}, {'id': '75', 'night': ('2.16090833333333', '41.4060866666667'), 'work': ('4.83772333333333', '45.7686233333333'), 'weekend': ('4.85209166666667', '45.7731916666667'), 'duree_night': 150843, 'duree_work': 106869, 'duree_weekend': 88725}, {'id': '18', 'night': ('4.86596166666667', '45.7553266666667'), 'work': ('2.794175', '48.8746466666667'), 'weekend': ('4.86639166666667', '45.7557866666667'), 'duree_night': 1320060, 'duree_work': 335316, 'duree_weekend': 553384}, {'id': '67', 'night': ('4.869715', '45.77574'), 'work': ('4.87209166666667', '45.7634483333333'), 'weekend': ('4.86700833333333', '45.7823633333333'), 'duree_night': 133646, 'duree_work': 149738, 'duree_weekend': 176322}, {'id': '68', 'night': ('4.8909', '45.7785783333333'), 'work': ('4.87232833333333', '45.782265'), 'weekend': ('4.89087166666667', '45.7789383333333'), 'duree_night': 271560, 'duree_work': 343593, 'duree_weekend': 331863}, {'id': '66', 'night': ('4.77843', '45.7689066666667'), 'work': ('4.86613833333333', '45.7693383333333'), 'weekend': ('4.77854333333333', '45.7691433333333'), 'duree_night': 1053337, 'duree_work': 308481, 'duree_weekend': 217013}, {'id': '70', 'night': ('4.88000333333333', '45.7619416666667'), 'work': ('4.87206333333333', '45.7816916666667'), 'weekend': ('4.88058666666667', '45.762005'), 'duree_night': 543869, 'duree_work': 27905, 'duree_weekend': 686868}, {'id': '77', 'night': ('4.83485833333333', '45.733215'), 'work': ('3.72099', '47.77284'), 'weekend': ('4.866175', '45.7821616666667'), 'duree_night': 2197831, 'duree_work': 91819, 'duree_weekend': 122426}, {'id': '84', 'night': ('4.871935', '45.7841833333333'), 'work': ('4.87261666666667', '45.7824566666667'), 'weekend': ('4.87259', '45.7823366666667'), 'duree_night': 35585, 'duree_work': 593658, 'duree_weekend': 85302}, {'id': '69', 'night': ('4.86815', '45.7684466666667'), 'work': ('4.59854', '45.8261416666667'), 'weekend': ('4.71652', '45.8202883333333'), 'duree_night': 109328, 'duree_work': 117911, 'duree_weekend': 145912}, {'id': '72', 'night': ('4.866105', '45.75583'), 'work': ('4.86520666666667', '45.7560333333333'), 'weekend': ('2.31178666666667', '49.873245'), 'duree_night': 188435, 'duree_work': 98931, 'duree_weekend': 162910}, {'id': '71', 'night': ('4.86937', '45.7727183333333'), 'work': ('0.316206666666667', '48.09882'), 'weekend': ('4.86964666666667', '45.7732116666667'), 'duree_night': 1057030, 'duree_work': 1290980, 'duree_weekend': 850844}, {'id': '73', 'night': ('4.85291333333333', '45.7380883333333'), 'work': ('4.85286666666667', '45.7381933333333'), 'weekend': ('4.85295166666667', '45.7380233333333'), 'duree_night': 212545, 'duree_work': 113855, 'duree_weekend': 195278}, {'id': '81', 'night': ('4.868865', '45.7640916666667'), 'work': ('4.87289166666667', '45.7815433333333'), 'weekend': ('4.86901833333333', '45.76469'), 'duree_night': 206453, 'duree_work': 491298, 'duree_weekend': 46650}, {'id': '78', 'night': ('4.88568', '45.7653366666667'), 'work': ('4.88619166666667', '45.7651516666667'), 'weekend': ('4.886385', '45.7655766666667'), 'duree_night': 1211988, 'duree_work': 253279, 'duree_weekend': 272696}, {'id': '83', 'night': ('4.986605', '45.6996383333333'), 'work': ('4.98653166666667', '45.6995916666667'), 'weekend': ('5.89308333333333', '45.4051683333333'), 'duree_night': 1336414, 'duree_work': 596499, 'duree_weekend': 264307}, {'id': '87', 'night': ('4.756425', '45.99553'), 'work': ('4.87741333333333', '45.781965'), 'weekend': ('4.75639166666667', '45.9954433333333'), 'duree_night': 467562, 'duree_work': 2309586, 'duree_weekend': 88514}, {'id': '58', 'night': ('14.438815', '50.0908416666667'), 'work': ('11.5923133333333', '48.1449016666667'), 'weekend': ('11.3548216666667', '47.99406'), 'duree_night': 21609, 'duree_work': 248839, 'duree_weekend': 137075}, {'id': '4', 'night': ('4.86588833333333', '45.7560983333333'), 'work': ('2.90552166666667', '49.2364166666667'), 'weekend': ('4.86783833333333', '45.751035'), 'duree_night': 41098, 'duree_work': 70627, 'duree_weekend': 73317}, {'id': '110', 'night': ('-1.66996223', '48.10998137'), 'work': ('2.34314014', '48.89153054'), 'weekend': ('2.34309359', '48.89142827'), 'duree_night': 30, 'duree_work': 172896, 'duree_weekend': 70071}]\n",
      "   id                 date  long    lat  isPoi  isTransitCity  night   work  \\\n",
      "0   1  2015-03-04 00:35:16  4.87  45.77  False          False   True  False   \n",
      "1   1  2015-03-04 00:35:48  4.87  45.77  False          False   True  False   \n",
      "2   1  2015-03-04 00:35:49  4.87  45.77  False          False   True  False   \n",
      "3   1  2015-03-04 00:35:50  4.87  45.77  False          False   True  False   \n",
      "4   1  2015-03-04 00:35:52  4.87  45.77  False          False   True  False   \n",
      "\n",
      "   weekend  semaine  \n",
      "0    False       10  \n",
      "1    False       10  \n",
      "2    False       10  \n",
      "3    False       10  \n",
      "4    False       10  \n",
      "0 34551849\n"
     ]
    }
   ],
   "source": [
    "#df_to_treat = df\n",
    "allPoi = computePOIs(df_to_treat, \"../truth_ground.csv\")\n",
    "print(allPoi)\n",
    "print(df_to_treat.head(5))\n",
    "print(df_to_treat[df_to_treat['isPoi']==True].shape[0], df_to_treat.shape[0])"
   ]
  },
  {
   "cell_type": "code",
   "execution_count": 9,
   "metadata": {},
   "outputs": [
    {
     "name": "stdout",
     "output_type": "stream",
     "text": [
      "0\n"
     ]
    }
   ],
   "source": [
    "print(df_to_treat[df_to_treat['isPoi']==True].shape[0])"
   ]
  },
  {
   "cell_type": "code",
   "execution_count": null,
   "metadata": {},
   "outputs": [],
   "source": [
    "def computeTransitCities(df, border_data_file, border_precision=0.01, duration_threeshold=60):\n",
    "    # Nouvelle fonction pour tenir compte de la métrique mobilité des Lyonnais\n",
    "    # Comme dans la fonction de la métrique, on calcule la frontière de la métropole de Lyon\n",
    "    \n",
    "    def check_time_spent(group):\n",
    "        group['date'] = pd.to_datetime(group['date'], format=\"%Y-%m-%d %H:%M:%S\")\n",
    "        group = group.sort_values(by=\"date\")\n",
    "        time_spent = (group['date'].iloc[group.shape[0]-1] - group['date'].iloc[0]).seconds\n",
    "        df.loc[group.index, 'isTransitCity'] = False if time_spent >= duration_threeshold else True\n",
    "        return group\n",
    "    \n",
    "    with open(border_data_file, 'r') as fichier_json :\n",
    "        data = json.load(fichier_json)\n",
    "        lyon_shape = Polygon(data)\n",
    "        del data\n",
    "        # Simplifier le polygone\n",
    "        lyon_shape = lyon_shape.simplify(border_precision)\n",
    "        # Grouper par coordonnée et id et vérifier le temps passé à la coordonnée\n",
    "        df.groupby(by=[\"id\", \"long\", \"lat\"], group_keys=True, sort=False).apply(check_time_spent)            \n",
    "    return\n",
    "\n",
    "computeTransitCities(df, \"../partieMetriques/limitesMetropole.json\", border_precision=0.01, duration_threeshold=60)"
   ]
  },
  {
   "cell_type": "code",
   "execution_count": null,
   "metadata": {},
   "outputs": [],
   "source": [
    "print(df[df['isTransitCity'] == True].size)"
   ]
  },
  {
   "cell_type": "code",
   "execution_count": null,
   "metadata": {},
   "outputs": [],
   "source": [
    "def permuteData(df: pd.DataFrame, to_poi_entries:bool | None =False, to_transit_entries:bool | None =True):\n",
    "    groups_indexes, groups_idx = zip(*[(group_indexes, idx) for idx, group_indexes in df.groupby(['id', 'semaine']).groups.items()])\n",
    "    groups_indexes = list(groups_indexes)\n",
    "    groups_idx_listified = list(groups_idx)\n",
    "    groups_idx = set(groups_idx)\n",
    "    groups_traites_idx = set()\n",
    "\n",
    "    def pickAnotherGroupInTmp(current_group: Tuple):\n",
    "        remaining_groups = list(groups_idx - groups_traites_idx)\n",
    "        remaining_groups.remove(current_group)\n",
    "        if len(remaining_groups)!=0:\n",
    "            priority_groups = list(set([a for a in remaining_groups if a[0] != current_group[0]]))\n",
    "            if len(priority_groups) > 0: other_group = random.choice(priority_groups)\n",
    "            else: other_group = random.choice(remaining_groups)\n",
    "            group_position = groups_idx_listified.index(other_group)\n",
    "            return groups_indexes[group_position]\n",
    "    \n",
    "    for idx, group in df.groupby(['id', 'semaine']).groups.items():        \n",
    "        if to_poi_entries is not None:\n",
    "            poi_condition = (df.loc[group, 'isPoi'] == to_poi_entries)\n",
    "            group = group[poi_condition]\n",
    "        if to_transit_entries is not None:\n",
    "            transit_condition = (df.loc[group, 'isTransitCity'] == to_transit_entries)\n",
    "            group = group[transit_condition]\n",
    "        #print(group)\n",
    "        df_group = df.loc[group]\n",
    "        if idx not in groups_traites_idx:\n",
    "            other_group_indexes = pickAnotherGroupInTmp(idx)\n",
    "            if other_group_indexes is not None :\n",
    "                if to_poi_entries is not None:\n",
    "                    poi_condition = (df.loc[other_group_indexes, 'isPoi'] == to_poi_entries)\n",
    "                    other_group_indexes = other_group_indexes[poi_condition]\n",
    "                if to_transit_entries is not None:\n",
    "                    transit_condition = (df.loc[other_group_indexes, 'isTransitCity'] == to_transit_entries)\n",
    "                    other_group_indexes = other_group_indexes[transit_condition]\n",
    "                    \n",
    "                other_group = df.loc[other_group_indexes]\n",
    "                if not other_group.empty :\n",
    "                    a = df_group[['long', 'lat']].copy()\n",
    "                    b = other_group[['long', 'lat']].copy()                \n",
    "                    if a.shape[0] < b.shape[0]:\n",
    "                        df.loc[group, ['long', 'lat']] = b.iloc[:a.shape[0], :].values\n",
    "                        df.loc[other_group_indexes, ['long', 'lat']].iloc[:a.shape[0], :] = a.values                    \n",
    "                    else:\n",
    "                        df.loc[group, ['long', 'lat']].iloc[ : b.shape[0], :] = b.values\n",
    "                        df.loc[other_group_indexes, ['long', 'lat']] = a.iloc[:b.shape[0], :].values\n",
    "\n",
    "                    groups_traites_idx.add(tuple(idx))\n",
    "                    groups_traites_idx.add(tuple((other_group['id'].iloc[0], other_group['semaine'].iloc[0])))        \n",
    "    return df\n",
    "df_to_treat = permuteData(df_to_treat, to_poi_entries=False, to_transit_entries=True)"
   ]
  },
  {
   "cell_type": "code",
   "execution_count": null,
   "metadata": {},
   "outputs": [],
   "source": [
    "print(df[(df['long'] != df_to_treat['long']) | (df['lat']!=df_to_treat['lat'])].shape, df_to_treat.shape)"
   ]
  },
  {
   "cell_type": "code",
   "execution_count": null,
   "metadata": {},
   "outputs": [],
   "source": [
    "def shiftHour(entry) ->str:\n",
    "    originalDate = datetime.datetime.fromisoformat(entry)\n",
    "    shiftValue = -18 if originalDate.time()>=datetime.time(18,00) else 6\n",
    "    shiftedDate = originalDate + datetime.timedelta(hours=shiftValue)\n",
    "    entry = shiftedDate.strftime(\"%Y-%m-%d %H:%M:%S\")\n",
    "    return entry"
   ]
  },
  {
   "cell_type": "code",
   "execution_count": null,
   "metadata": {},
   "outputs": [],
   "source": [
    "def deleteData(df: pd.DataFrame, to_poi_entries:bool|None =False, proportion=1/3):\n",
    "    def suppressionAleatoire(group):\n",
    "        tmp = group[group['isPoi']==to_poi_entries] if to_poi_entries is not None else group\n",
    "        tailleSup = int(len(tmp)*proportion)\n",
    "        indices_to_remove = np.random.choice(tmp.index, size=tailleSup, replace=False)\n",
    "        group.loc[indices_to_remove, 'id'] = 'DEL'\n",
    "        return group\n",
    "    df['id']= df.groupby(['id', 'semaine'], group_keys=True, sort=False).apply(suppressionAleatoire)['id'].values\n",
    "    return\n",
    "\n",
    "deleteData(df_to_treat, to_poi_entries=False, proportion=0)\n",
    "print(df_to_treat.head(5))"
   ]
  },
  {
   "cell_type": "code",
   "execution_count": null,
   "metadata": {},
   "outputs": [],
   "source": [
    "filterr = ((df_to_treat['id'] != 'DEL') &(df_to_treat['id'] != df['id'])) | (df_to_treat['semaine'] != df['semaine'])\n",
    "print(df_to_treat[filterr].shape, df_to_treat[filterr])"
   ]
  },
  {
   "cell_type": "code",
   "execution_count": null,
   "metadata": {},
   "outputs": [],
   "source": [
    "print(df_to_treat[df_to_treat['id']=='DEL'].shape[0], df_to_treat.shape[0])"
   ]
  },
  {
   "cell_type": "code",
   "execution_count": null,
   "metadata": {},
   "outputs": [],
   "source": [
    "def noisifyGps(df_part: pd.DataFrame):\n",
    "    noise = np.random.choice([-0.02, 0.02], size=(len(df_part), 2))\n",
    "    df_part[['long', 'lat']] += noise\n",
    "    return df_part"
   ]
  },
  {
   "cell_type": "code",
   "execution_count": null,
   "metadata": {},
   "outputs": [],
   "source": [
    "#filter = (~df_to_treat['isPoi']) & (df_to_treat['id'] != 'DEL')\n",
    "#filter = (~df_to_treat['isPoi'])\n",
    "#df_to_treat[filter] = noisifyGps(df_to_treat[filter])\n",
    "df_to_treat = noisifyGps(df_to_treat)\n",
    "print(df_to_treat.head(5))"
   ]
  },
  {
   "cell_type": "code",
   "execution_count": null,
   "metadata": {},
   "outputs": [],
   "source": [
    "CHARACTERS_POOL = string.ascii_letters + string.digits\n",
    "CORRESPONDANCES_FILE =  'correspondances3.json'\n",
    "\n",
    "def generatePseudoIds(df_ : pd.DataFrame):\n",
    "    def generator(group, nb_characters : int):\n",
    "        pseudo_id_str = ''.join(random.choice(CHARACTERS_POOL) for _ in range(nb_characters))\n",
    "        pseudo_id_final = m(pseudo_id_str).stringToMorse().replace(\" \", \"\")\n",
    "        group.loc[group!='DEL'] = pseudo_id_final\n",
    "        #print(group)\n",
    "        return group\n",
    "\n",
    "    def saveCorrespondances(group:pd.DataFrame, corresp_struc: Dict):\n",
    "        tmp = group.loc[group['id'] != 'DEL' ,['id', 'id_x']]\n",
    "        id_original = int(tmp['id'].iloc[0]) if not tmp.empty else 'DEL'\n",
    "        if id_original == 'DEL':\n",
    "            return group\n",
    "        pseudo_id_final = tmp['id_x'].iloc[0]\n",
    "\n",
    "        if id_original not in corresp_struc:\n",
    "            corresp_struc[id_original] = {}\n",
    "        semaine = f\"2015-{group['semaine'].iloc[0]}\"\n",
    "        if  semaine not in corresp_struc[id_original]:\n",
    "            corresp_struc[id_original][semaine] = []\n",
    "        corresp_struc[id_original][semaine].append(pseudo_id_final)\n",
    "        return group\n",
    "\n",
    "    data = {}\n",
    "    df_['id_x'] = df_['id']   \n",
    "    df_['id_x'] = df_.groupby(['id', 'semaine'])['id_x'].transform(lambda group: generator(group, nb_characters=5))\n",
    "    df_.groupby(['id', 'semaine'], group_keys=True).apply(lambda group : saveCorrespondances(group, corresp_struc=data))\n",
    "    \n",
    "    with open(CORRESPONDANCES_FILE, 'w') as f:\n",
    "        json.dump(data, f, indent=4, separators=(',', ':'))\n",
    "    return df_\n",
    "\n",
    "b = generatePseudoIds(df_to_treat.copy())\n",
    "print(b.head(5))\n",
    "b[['id_x', 'date', 'long', 'lat']].to_csv(\"anonym3.csv\", sep=\"\\t\", index=False, header=False)"
   ]
  },
  {
   "cell_type": "code",
   "execution_count": null,
   "metadata": {},
   "outputs": [],
   "source": [
    "from metrics import pointsOfInterest, hour, meet, date, distance, tuile, nationalMobility\n",
    "def calculScore(originial_f, anonymise_f):\n",
    "    metrics = []\n",
    "    for metric in [pointsOfInterest, hour, meet, date, distance, tuile, nationalMobility]:\n",
    "        metrics.append(metric.main(originial_f, anonymise_f))\n",
    "    return metrics\n",
    "calculatedMetrics = calculScore(\"file3.csv\", \"anonym3.csv\")\n",
    "print(calculatedMetrics)"
   ]
  },
  {
   "cell_type": "code",
   "execution_count": null,
   "metadata": {},
   "outputs": [],
   "source": [
    "import numpy as np\n",
    "score = np.mean(calculatedMetrics)\n",
    "print(score)"
   ]
  },
  {
   "cell_type": "code",
   "execution_count": null,
   "metadata": {},
   "outputs": [],
   "source": [
    "import json\n",
    "def calculateReidentificationScore(json_correct, json_soumis):\n",
    "    score = 0\n",
    "    nb_pseudo = 0\n",
    "    with open(json_correct, 'r') as f:\n",
    "        data_correct = json.load(f)\n",
    "\n",
    "    with open(json_soumis, 'r') as f:\n",
    "        data_soumis = json.load(f)\n",
    "\n",
    "    for id, semaines_correctes in data_correct.items():\n",
    "            # Comparer les pseudo-identifiants pour chaque semaine\n",
    "            for semaine, pseudo_id_correct in semaines_correctes.items():\n",
    "                nb_pseudo += 1\n",
    "                if id in data_soumis:\n",
    "                    pseudo_id_soumis = data_soumis[id].get(semaine, None)\n",
    "                    # Vérifier les correspondances\n",
    "                    if pseudo_id_soumis and pseudo_id_correct[0] == pseudo_id_soumis[0]:\n",
    "                        score += 1\n",
    "    print(f\"Score={score}/{nb_pseudo}\")\n",
    "    return score/nb_pseudo\n",
    "calculateReidentificationScore('correspondances3.json', '../partieAttaque/autoAttaques/sub2.json')"
   ]
  }
 ],
 "metadata": {
  "kernelspec": {
   "display_name": "Python 3",
   "language": "python",
   "name": "python3"
  },
  "language_info": {
   "codemirror_mode": {
    "name": "ipython",
    "version": 3
   },
   "file_extension": ".py",
   "mimetype": "text/x-python",
   "name": "python",
   "nbconvert_exporter": "python",
   "pygments_lexer": "ipython3",
   "version": "3.10.0"
  }
 },
 "nbformat": 4,
 "nbformat_minor": 2
}
