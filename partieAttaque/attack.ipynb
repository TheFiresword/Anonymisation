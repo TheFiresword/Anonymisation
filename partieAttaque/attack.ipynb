{
 "cells": [
  {
   "cell_type": "code",
   "execution_count": null,
   "metadata": {},
   "outputs": [],
   "source": [
    "from attackAlgorithms import *\n",
    "from utils import *"
   ]
  },
  {
   "cell_type": "code",
   "execution_count": null,
   "metadata": {},
   "outputs": [],
   "source": [
    "def cmpAttackAlgoEfficiency(json_ref, json_algo, verbose=True):\n",
    "    improvement_score = 0\n",
    "    total = 0\n",
    "    with open(json_ref, 'r') as f:\n",
    "        previous_attack = json.load(f)\n",
    "\n",
    "    with open(json_algo, 'r') as f:\n",
    "        current_attack = json.load(f)\n",
    "\n",
    "    for id, semaines_correctes in previous_attack.items():\n",
    "            # Comparer les pseudo-identifiants pour chaque semaine\n",
    "            for semaine, previous_match in semaines_correctes.items():\n",
    "                if previous_match is not None:\n",
    "                    total += 1\n",
    "                    if id in current_attack:\n",
    "                        current_match = current_attack[id].get(semaine, None)\n",
    "                        # Vérifier les correspondances\n",
    "                        if current_match and previous_match[0] == current_match[0]:\n",
    "                            improvement_score += 1\n",
    "                        else:\n",
    "                            if verbose:\n",
    "                                print(f\"{id}--{semaine}--{current_match}--{previous_match[0]}\")\n",
    "    print(f\"{improvement_score}/{total}\")\n",
    "    return improvement_score/total"
   ]
  },
  {
   "cell_type": "code",
   "execution_count": null,
   "metadata": {},
   "outputs": [],
   "source": [
    "df_anonyme = processDonnees(\"Frangipane/submit684.csv\", supp_lignes_DEL=True, numeric_precision=4, nb_bits_id=0)\n",
    "df = processDonnees(\"../truth_ground.csv\", numeric_precision=4)"
   ]
  },
  {
   "cell_type": "code",
   "execution_count": null,
   "metadata": {},
   "outputs": [],
   "source": [
    "print(len(df_anonyme['id'].unique()))"
   ]
  },
  {
   "cell_type": "code",
   "execution_count": null,
   "metadata": {},
   "outputs": [],
   "source": [
    "df_anonyme = processDonnees(\"Datalockers/submit678.csv\", supp_lignes_DEL=True, numeric_precision=4, nb_bits_id=0)"
   ]
  },
  {
   "cell_type": "code",
   "execution_count": null,
   "metadata": {},
   "outputs": [],
   "source": [
    "correlation(df, df_anonyme, f\"Frangipane/Xsubmit684\", remove_found=False, is_frangipane=True)\n",
    "#jointureNaive(df, df_anonyme, \"Vinanonyme/Xsubmit702\")\n",
    "#correspondanceNombreDeGps(df, df_anonyme, \"Amitous/Xsubmit584\")\n",
    "genererJson('Frangipane/Xsubmit684.csv', 'Frangipane/submit684_cor4_nodel', idx_type=str)"
   ]
  },
  {
   "cell_type": "code",
   "execution_count": null,
   "metadata": {},
   "outputs": [],
   "source": [
    "cmpAttackAlgoEfficiency(\"Frangipane/submit684_mano.json\", \"Frangipane/submit684_cor4_nodel.json\", verbose=False)\n",
    "# 5 de plus ici"
   ]
  },
  {
   "cell_type": "code",
   "execution_count": null,
   "metadata": {},
   "outputs": [],
   "source": [
    "del df_anonyme\n",
    "gc.collect()\n",
    "df_anonyme = processDonnees(\"Frangipane/submit691.csv\", supp_lignes_DEL=True, numeric_precision=4, nb_bits_id=0)\n",
    "correlation(df, df_anonyme, f\"Frangipane/Xsubmit691\", remove_found=False)\n",
    "#jointureNaive(df, df_anonyme, \"Vinanonyme/Xsubmit703\")\n",
    "#correspondanceNombreDeGps(df, df_anonyme, \"Amitous/Xsubmit584\")\n",
    "genererJson('Frangipane/Xsubmit691.csv', 'Frangipane/submit691_cor4_all', idx_type=str)"
   ]
  },
  {
   "cell_type": "code",
   "execution_count": null,
   "metadata": {},
   "outputs": [],
   "source": [
    "with open(\"Frangipane/submit691_mano.json\", 'r') as f:\n",
    "    all_idx = set(df_anonyme['id'].unique().tolist())\n",
    "    print(len(all_idx), all_idx)\n",
    "    present_idx = []\n",
    "    correspondances = json.load(f)\n",
    "    for id_o, semaines_correctes in correspondances.items():\n",
    "        for semaine, idx in semaines_correctes.items():\n",
    "            if idx:\n",
    "                tmp = str(idx[0])\n",
    "                if  tmp not in present_idx:\n",
    "                    present_idx.append(tmp)\n",
    "    print(len(present_idx), present_idx)"
   ]
  },
  {
   "cell_type": "code",
   "execution_count": null,
   "metadata": {},
   "outputs": [],
   "source": [
    "with open(\"Datalockers/submit670_cor4.json\", 'r') as f:\n",
    "    correspondances = json.load(f)\n",
    "with open(\"Datalockers/submit670_cor4_nodel.json\", 'r') as g:\n",
    "    frangipane = json.load(g)\n",
    "    \n",
    "    for id_o, semaines_correctes in correspondances.items():\n",
    "        if id_o in frangipane:\n",
    "            for semaine, idx in semaines_correctes.items():\n",
    "                if semaine in frangipane[id_o]:\n",
    "                    if frangipane[id_o][semaine][0] != correspondances[id_o][semaine][0]:\n",
    "                        print(f\"Id : {id_o}--Semaine: {semaine}--Fichier1: {correspondances[id_o][semaine][0]} vs Fichier2: {frangipane[id_o][semaine][0]}\")\n",
    "        else:\n",
    "            print(f\"Id manquant: {id_o}\")"
   ]
  },
  {
   "cell_type": "code",
   "execution_count": null,
   "metadata": {},
   "outputs": [],
   "source": [
    "with open(\"Frangipane/submit684_joi_lon1.json\", 'r') as f:\n",
    "    incomplet = json.load(f)\n",
    "with open(\"Frangipane/submit684_cor4_nodel.json\", 'r') as g:\n",
    "    complet = json.load(g)\n",
    "    \n",
    "    for id_o, semaines_correctes in complet.items():\n",
    "        if id_o in incomplet:\n",
    "            for semaine, idx in semaines_correctes.items():\n",
    "                if semaine in incomplet[id_o]:\n",
    "                    value1 = incomplet[id_o][semaine] if incomplet[id_o][semaine]==None else incomplet[id_o][semaine][0]\n",
    "                    value2 = complet[id_o][semaine] if complet[id_o][semaine]==None else complet[id_o][semaine][0]\n",
    "                    if value1 != value2:\n",
    "                        print(f\"Id : {id_o}--Semaine: {semaine}--Fichier1: {value1} vs Fichier2: {value2}\")\n",
    "                else:\n",
    "                    incomplet[id_o][semaine] = complet[id_o][semaine]\n",
    "        else:\n",
    "            print(f\"Id manquant: {id_o}\")\n",
    "    with open(\"Frangipane/submit684_mano.json\", 'w') as f:\n",
    "        json.dump(incomplet, f, indent=4, separators=(',', ':'))"
   ]
  },
  {
   "cell_type": "code",
   "execution_count": null,
   "metadata": {},
   "outputs": [],
   "source": [
    "with open(\"Frangipane/submit691_cor4_long.json\", 'r') as g:\n",
    "    missing = []\n",
    "    cor = json.load(g)\n",
    "    for id, semaines in cor.items():\n",
    "        for semaine, idx in semaines.items():\n",
    "            if idx and idx[0] not in present_idx:\n",
    "                missing.append(idx[0])\n",
    "                #print(f\"Id manquant {idx[0]}\")\n",
    "    missing = set(missing)\n",
    "    print(len(missing))\n",
    "    for el in missing:\n",
    "        print(el)"
   ]
  },
  {
   "cell_type": "code",
   "execution_count": null,
   "metadata": {},
   "outputs": [],
   "source": [
    "with open(\"Frangipane/submit691_cor4_fr.json\", 'r+') as g:\n",
    "    complet = json.load(g)\n",
    "    with open(\"Frangipane/submit691_cor4_long.json\", 'w') as f:\n",
    "        json.dump(complet, f, indent=4, separators=(',', ':'))"
   ]
  },
  {
   "cell_type": "code",
   "execution_count": null,
   "metadata": {},
   "outputs": [],
   "source": [
    "print(len(df_anonyme['id'].unique().tolist()))"
   ]
  },
  {
   "cell_type": "code",
   "execution_count": null,
   "metadata": {},
   "outputs": [],
   "source": [
    "df = pd.read_csv(\"Newbies/probability.csv\", delimiter= \"    \", header=None)    \n",
    "df.columns = [\"id\",\"date\", \"pseudo1\", \"pseudo2\", \"dissimilarite\"]\n",
    "print(df.head(2))"
   ]
  },
  {
   "cell_type": "code",
   "execution_count": null,
   "metadata": {},
   "outputs": [],
   "source": [
    "df=df.sort_values(by=[\"dissimilarite\"])\n",
    "a=df.iloc[:54, :]\n",
    "print(a[['id', 'date', 'pseudo2']])"
   ]
  }
 ],
 "metadata": {
  "kernelspec": {
   "display_name": "Python 3",
   "language": "python",
   "name": "python3"
  },
  "language_info": {
   "codemirror_mode": {
    "name": "ipython",
    "version": 3
   },
   "file_extension": ".py",
   "mimetype": "text/x-python",
   "name": "python",
   "nbconvert_exporter": "python",
   "pygments_lexer": "ipython3",
   "version": "3.10.0"
  }
 },
 "nbformat": 4,
 "nbformat_minor": 2
}
